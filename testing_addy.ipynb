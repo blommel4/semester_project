{
 "cells": [
  {
   "cell_type": "code",
   "execution_count": 51,
   "metadata": {
    "collapsed": true
   },
   "outputs": [],
   "source": [
    "import xgboost as xgb\n",
    "import pandas as pd\n",
    "import matplotlib.pyplot as plt\n",
    "import numpy as np"
   ]
  },
  {
   "cell_type": "code",
   "execution_count": 36,
   "metadata": {},
   "outputs": [
    {
     "name": "stdout",
     "output_type": "stream",
     "text": [
      "(1112, 11)\n",
      "(1129, 27)\n"
     ]
    }
   ],
   "source": [
    "full_results = pd.read_csv('full_results.csv')\n",
    "full_stats = pd.read_csv('FullKenPom_pt.csv')\n",
    "\n",
    "print(full_results.shape)\n",
    "print(full_stats.shape)"
   ]
  },
  {
   "cell_type": "code",
   "execution_count": 48,
   "metadata": {},
   "outputs": [
    {
     "data": {
      "text/html": [
       "<div>\n",
       "<style>\n",
       "    .dataframe thead tr:only-child th {\n",
       "        text-align: right;\n",
       "    }\n",
       "\n",
       "    .dataframe thead th {\n",
       "        text-align: left;\n",
       "    }\n",
       "\n",
       "    .dataframe tbody tr th {\n",
       "        vertical-align: top;\n",
       "    }\n",
       "</style>\n",
       "<table border=\"1\" class=\"dataframe\">\n",
       "  <thead>\n",
       "    <tr style=\"text-align: right;\">\n",
       "      <th></th>\n",
       "      <th>level_0</th>\n",
       "      <th>index</th>\n",
       "      <th>Unnamed: 0</th>\n",
       "      <th>Year</th>\n",
       "      <th>Round</th>\n",
       "      <th>Region Number</th>\n",
       "      <th>Region Name</th>\n",
       "      <th>SeedA</th>\n",
       "      <th>ScoreA</th>\n",
       "      <th>TeamA</th>\n",
       "      <th>TeamB</th>\n",
       "      <th>ScoreB</th>\n",
       "      <th>SeedB</th>\n",
       "    </tr>\n",
       "  </thead>\n",
       "  <tbody>\n",
       "    <tr>\n",
       "      <th>0</th>\n",
       "      <td>1</td>\n",
       "      <td>1</td>\n",
       "      <td>1</td>\n",
       "      <td>2002</td>\n",
       "      <td>1</td>\n",
       "      <td>1</td>\n",
       "      <td>South</td>\n",
       "      <td>1</td>\n",
       "      <td>84</td>\n",
       "      <td>Duke</td>\n",
       "      <td>Winthrop</td>\n",
       "      <td>37</td>\n",
       "      <td>16</td>\n",
       "    </tr>\n",
       "    <tr>\n",
       "      <th>1</th>\n",
       "      <td>2</td>\n",
       "      <td>2</td>\n",
       "      <td>2</td>\n",
       "      <td>2002</td>\n",
       "      <td>1</td>\n",
       "      <td>1</td>\n",
       "      <td>South</td>\n",
       "      <td>2</td>\n",
       "      <td>86</td>\n",
       "      <td>Alabama</td>\n",
       "      <td>Florida Atlantic</td>\n",
       "      <td>78</td>\n",
       "      <td>15</td>\n",
       "    </tr>\n",
       "    <tr>\n",
       "      <th>2</th>\n",
       "      <td>3</td>\n",
       "      <td>3</td>\n",
       "      <td>3</td>\n",
       "      <td>2002</td>\n",
       "      <td>1</td>\n",
       "      <td>1</td>\n",
       "      <td>South</td>\n",
       "      <td>3</td>\n",
       "      <td>71</td>\n",
       "      <td>Pittsburgh</td>\n",
       "      <td>Central Connecticut St</td>\n",
       "      <td>54</td>\n",
       "      <td>14</td>\n",
       "    </tr>\n",
       "    <tr>\n",
       "      <th>3</th>\n",
       "      <td>4</td>\n",
       "      <td>4</td>\n",
       "      <td>4</td>\n",
       "      <td>2002</td>\n",
       "      <td>1</td>\n",
       "      <td>1</td>\n",
       "      <td>South</td>\n",
       "      <td>4</td>\n",
       "      <td>89</td>\n",
       "      <td>USC</td>\n",
       "      <td>UNC Wilmington</td>\n",
       "      <td>93</td>\n",
       "      <td>13</td>\n",
       "    </tr>\n",
       "    <tr>\n",
       "      <th>4</th>\n",
       "      <td>5</td>\n",
       "      <td>5</td>\n",
       "      <td>5</td>\n",
       "      <td>2002</td>\n",
       "      <td>1</td>\n",
       "      <td>1</td>\n",
       "      <td>South</td>\n",
       "      <td>5</td>\n",
       "      <td>75</td>\n",
       "      <td>Indiana</td>\n",
       "      <td>Utah</td>\n",
       "      <td>56</td>\n",
       "      <td>12</td>\n",
       "    </tr>\n",
       "  </tbody>\n",
       "</table>\n",
       "</div>"
      ],
      "text/plain": [
       "   level_0  index  Unnamed: 0  Year  Round  Region Number Region Name  SeedA  \\\n",
       "0        1      1           1  2002      1              1       South      1   \n",
       "1        2      2           2  2002      1              1       South      2   \n",
       "2        3      3           3  2002      1              1       South      3   \n",
       "3        4      4           4  2002      1              1       South      4   \n",
       "4        5      5           5  2002      1              1       South      5   \n",
       "\n",
       "   ScoreA       TeamA                   TeamB  ScoreB  SeedB  \n",
       "0      84        Duke                Winthrop      37     16  \n",
       "1      86     Alabama        Florida Atlantic      78     15  \n",
       "2      71  Pittsburgh  Central Connecticut St      54     14  \n",
       "3      89         USC          UNC Wilmington      93     13  \n",
       "4      75     Indiana                    Utah      56     12  "
      ]
     },
     "execution_count": 48,
     "metadata": {},
     "output_type": "execute_result"
    }
   ],
   "source": [
    "###mask test and train data###\n",
    "res_test_mask = (full_results['Year'] == 2016) | (full_results['Year'] == 2017) | (full_results['Year'] == 2018)\n",
    "stats_test_mask = (full_stats['Season'] == 2016) | (full_stats['Season'] == 2017) | (full_stats['Season'] == 2018)\n",
    "res_train_mask = (full_results['Year'] < 2016)\n",
    "stats_train_mask = (full_stats['Season'] < 2016)\n",
    "\n",
    "res_data_test = full_results[res_test_mask]\n",
    "stats_data_test = full_stats[stats_test_mask]\n",
    "res_data_train = full_results[res_train_mask]\n",
    "stats_data_train = full_stats[stats_train_mask]\n",
    "\n",
    "#reindex all of them\n",
    "res_data_test = res_data_test.reset_index()\n",
    "stats_data_test = stats_data_test.reset_index()\n",
    "res_data_train = res_data_train.reset_index()\n",
    "stats_data_train = stats_data_train.reset_index()\n",
    "\n",
    "for i in range(len(res_data_test)):\n",
    "    if res_data_test['Region Name'][i] == \"First Four\":\n",
    "        res_data_test = res_data_test.drop(i)\n",
    "for i in range(len(res_data_train)):\n",
    "    if res_data_train['Region Name'][i] == \"First Four\":\n",
    "        res_data_train = res_data_train.drop(i)\n",
    "        \n",
    "#reindex all of them\n",
    "res_data_test = res_data_test.reset_index()\n",
    "stats_data_test = stats_data_test.reset_index()\n",
    "res_data_train = res_data_train.reset_index()\n",
    "stats_data_train = stats_data_train.reset_index()\n",
    "\n",
    "res_data_train.head()\n",
    "\n",
    "#res_data_test.tail()\n",
    "#stats_data_test.tail()\n",
    "#res_data_train.tail()\n",
    "#stats_data_train.tail()\n"
   ]
  },
  {
   "cell_type": "code",
   "execution_count": 4,
   "metadata": {},
   "outputs": [
    {
     "name": "stdout",
     "output_type": "stream",
     "text": [
      "13\n"
     ]
    }
   ],
   "source": [
    "stats_vec = [\"AdjTempo\",\n",
    "            \"AdjOE\",\n",
    "            \"AdjDE - have to flip\",\n",
    "            \"AdjEM\",\n",
    "            \"Seed\",\n",
    "            \"ConfTournament\",\n",
    "            \"SOSAdjEM\",\n",
    "            \"NCSOSAdjEM\",\n",
    "            \"O-D_eFG_Pct\",\n",
    "            \"D-O_TO_Pct\",\n",
    "            \"O-D_OR_Pct\",\n",
    "            \"O-D_FT_Rate\",\n",
    "            \"LastTenRecord\"]\n",
    "\n",
    "print(len(stats_vec))"
   ]
  },
  {
   "cell_type": "code",
   "execution_count": 55,
   "metadata": {},
   "outputs": [
    {
     "name": "stdout",
     "output_type": "stream",
     "text": [
      "882\n"
     ]
    }
   ],
   "source": [
    "N = len(res_data_train)\n",
    "\n",
    "training_data = np.zeros((N,13))\n",
    "print(len(training_data))"
   ]
  },
  {
   "cell_type": "code",
   "execution_count": null,
   "metadata": {
    "collapsed": true
   },
   "outputs": [],
   "source": []
  }
 ],
 "metadata": {
  "kernelspec": {
   "display_name": "Python 3",
   "language": "python",
   "name": "python3"
  },
  "language_info": {
   "codemirror_mode": {
    "name": "ipython",
    "version": 3
   },
   "file_extension": ".py",
   "mimetype": "text/x-python",
   "name": "python",
   "nbconvert_exporter": "python",
   "pygments_lexer": "ipython3",
   "version": "3.6.8"
  }
 },
 "nbformat": 4,
 "nbformat_minor": 2
}
