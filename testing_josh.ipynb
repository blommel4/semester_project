{
 "cells": [
  {
   "cell_type": "code",
   "execution_count": 20,
   "metadata": {},
   "outputs": [],
   "source": [
    "import xgboost as xgb\n",
    "import pandas as pd\n",
    "import matplotlib.pyplot as plt\n",
    "%matplotlib inline\n",
    "import graphviz\n",
    "import numpy as np\n",
    "from sklearn import preprocessing"
   ]
  },
  {
   "cell_type": "code",
   "execution_count": 21,
   "metadata": {},
   "outputs": [],
   "source": [
    "full_results = pd.read_csv('full_results.csv')\n",
    "full_stats = pd.read_csv('FullKenPom_pt.csv')\n",
    "\n",
    "print(full_results.shape)\n",
    "print(full_stats.shape)\n",
    "#full_stats"
   ]
  },
  {
   "cell_type": "code",
   "execution_count": 22,
   "metadata": {},
   "outputs": [
    {
     "name": "stdout",
     "output_type": "stream",
     "text": [
      "[ True  True  True  True False  True  True False False  True  True]\n"
     ]
    },
    {
     "ename": "ValueError",
     "evalue": "Item wrong length 11 instead of 201.",
     "output_type": "error",
     "traceback": [
      "\u001b[1;31m---------------------------------------------------------------------------\u001b[0m",
      "\u001b[1;31mValueError\u001b[0m                                Traceback (most recent call last)",
      "\u001b[1;32m<ipython-input-22-e87c8d5203e1>\u001b[0m in \u001b[0;36m<module>\u001b[1;34m\u001b[0m\n\u001b[0;32m      4\u001b[0m \u001b[0mdata_clean_mask\u001b[0m \u001b[1;33m=\u001b[0m \u001b[1;33m(\u001b[0m\u001b[0mfull_results\u001b[0m\u001b[1;33m.\u001b[0m\u001b[0mcolumns\u001b[0m \u001b[1;33m!=\u001b[0m \u001b[1;34m'Region Name'\u001b[0m\u001b[1;33m)\u001b[0m \u001b[1;33m&\u001b[0m \u001b[1;33m(\u001b[0m\u001b[0mfull_results\u001b[0m\u001b[1;33m.\u001b[0m\u001b[0mcolumns\u001b[0m \u001b[1;33m!=\u001b[0m \u001b[1;34m'TeamA'\u001b[0m\u001b[1;33m)\u001b[0m \u001b[1;33m&\u001b[0m \u001b[1;33m(\u001b[0m\u001b[0mfull_results\u001b[0m\u001b[1;33m.\u001b[0m\u001b[0mcolumns\u001b[0m \u001b[1;33m!=\u001b[0m \u001b[1;34m'TeamB'\u001b[0m\u001b[1;33m)\u001b[0m\u001b[1;33m\u001b[0m\u001b[1;33m\u001b[0m\u001b[0m\n\u001b[0;32m      5\u001b[0m \u001b[0mprint\u001b[0m\u001b[1;33m(\u001b[0m\u001b[0mdata_clean_mask\u001b[0m\u001b[1;33m)\u001b[0m\u001b[1;33m\u001b[0m\u001b[1;33m\u001b[0m\u001b[0m\n\u001b[1;32m----> 6\u001b[1;33m \u001b[0mdata_test\u001b[0m\u001b[1;33m.\u001b[0m\u001b[0mcolumns\u001b[0m \u001b[1;33m=\u001b[0m \u001b[0mdata_test\u001b[0m\u001b[1;33m[\u001b[0m\u001b[0mdata_clean_mask\u001b[0m\u001b[1;33m]\u001b[0m\u001b[1;33m\u001b[0m\u001b[1;33m\u001b[0m\u001b[0m\n\u001b[0m\u001b[0;32m      7\u001b[0m \u001b[1;33m\u001b[0m\u001b[0m\n\u001b[0;32m      8\u001b[0m \u001b[0mtrain_mask\u001b[0m \u001b[1;33m=\u001b[0m \u001b[1;33m(\u001b[0m\u001b[0mfull_results\u001b[0m\u001b[1;33m[\u001b[0m\u001b[1;34m'Year'\u001b[0m\u001b[1;33m]\u001b[0m \u001b[1;33m!=\u001b[0m \u001b[1;36m2016\u001b[0m\u001b[1;33m)\u001b[0m \u001b[1;33m&\u001b[0m \u001b[1;33m(\u001b[0m\u001b[0mfull_results\u001b[0m\u001b[1;33m[\u001b[0m\u001b[1;34m'Year'\u001b[0m\u001b[1;33m]\u001b[0m \u001b[1;33m!=\u001b[0m \u001b[1;36m2017\u001b[0m\u001b[1;33m)\u001b[0m \u001b[1;33m&\u001b[0m \u001b[1;33m(\u001b[0m\u001b[0mfull_results\u001b[0m\u001b[1;33m[\u001b[0m\u001b[1;34m'Year'\u001b[0m\u001b[1;33m]\u001b[0m \u001b[1;33m!=\u001b[0m \u001b[1;36m2018\u001b[0m\u001b[1;33m)\u001b[0m\u001b[1;33m\u001b[0m\u001b[1;33m\u001b[0m\u001b[0m\n",
      "\u001b[1;32m~\\Anaconda3\\lib\\site-packages\\pandas\\core\\frame.py\u001b[0m in \u001b[0;36m__getitem__\u001b[1;34m(self, key)\u001b[0m\n\u001b[0;32m   2916\u001b[0m         \u001b[1;31m# Do we have a (boolean) 1d indexer?\u001b[0m\u001b[1;33m\u001b[0m\u001b[1;33m\u001b[0m\u001b[1;33m\u001b[0m\u001b[0m\n\u001b[0;32m   2917\u001b[0m         \u001b[1;32mif\u001b[0m \u001b[0mcom\u001b[0m\u001b[1;33m.\u001b[0m\u001b[0mis_bool_indexer\u001b[0m\u001b[1;33m(\u001b[0m\u001b[0mkey\u001b[0m\u001b[1;33m)\u001b[0m\u001b[1;33m:\u001b[0m\u001b[1;33m\u001b[0m\u001b[1;33m\u001b[0m\u001b[0m\n\u001b[1;32m-> 2918\u001b[1;33m             \u001b[1;32mreturn\u001b[0m \u001b[0mself\u001b[0m\u001b[1;33m.\u001b[0m\u001b[0m_getitem_bool_array\u001b[0m\u001b[1;33m(\u001b[0m\u001b[0mkey\u001b[0m\u001b[1;33m)\u001b[0m\u001b[1;33m\u001b[0m\u001b[1;33m\u001b[0m\u001b[0m\n\u001b[0m\u001b[0;32m   2919\u001b[0m \u001b[1;33m\u001b[0m\u001b[0m\n\u001b[0;32m   2920\u001b[0m         \u001b[1;31m# We are left with two options: a single key, and a collection of keys,\u001b[0m\u001b[1;33m\u001b[0m\u001b[1;33m\u001b[0m\u001b[1;33m\u001b[0m\u001b[0m\n",
      "\u001b[1;32m~\\Anaconda3\\lib\\site-packages\\pandas\\core\\frame.py\u001b[0m in \u001b[0;36m_getitem_bool_array\u001b[1;34m(self, key)\u001b[0m\n\u001b[0;32m   2961\u001b[0m         \u001b[1;32melif\u001b[0m \u001b[0mlen\u001b[0m\u001b[1;33m(\u001b[0m\u001b[0mkey\u001b[0m\u001b[1;33m)\u001b[0m \u001b[1;33m!=\u001b[0m \u001b[0mlen\u001b[0m\u001b[1;33m(\u001b[0m\u001b[0mself\u001b[0m\u001b[1;33m.\u001b[0m\u001b[0mindex\u001b[0m\u001b[1;33m)\u001b[0m\u001b[1;33m:\u001b[0m\u001b[1;33m\u001b[0m\u001b[1;33m\u001b[0m\u001b[0m\n\u001b[0;32m   2962\u001b[0m             raise ValueError('Item wrong length %d instead of %d.' %\n\u001b[1;32m-> 2963\u001b[1;33m                              (len(key), len(self.index)))\n\u001b[0m\u001b[0;32m   2964\u001b[0m \u001b[1;33m\u001b[0m\u001b[0m\n\u001b[0;32m   2965\u001b[0m         \u001b[1;31m# check_bool_indexer will throw exception if Series key cannot\u001b[0m\u001b[1;33m\u001b[0m\u001b[1;33m\u001b[0m\u001b[1;33m\u001b[0m\u001b[0m\n",
      "\u001b[1;31mValueError\u001b[0m: Item wrong length 11 instead of 201."
     ]
    }
   ],
   "source": [
    "###mask test and train data###\n",
    "res_test_mask = (full_results['Year'] == 2016) | (full_results['Year'] == 2017) | (full_results['Year'] == 2018)\n",
    "stats_test_mask = (full_stats['Season'] == 2016) | (full_stats['Season'] == 2017) | (full_stats['Season'] == 2018)\n",
    "res_train_mask = (full_results['Year'] < 2016)\n",
    "stats_train_mask = (full_stats['Season'] < 2016)\n",
    "\n",
    "res_data_test = full_results[res_test_mask]\n",
    "stats_data_test = full_stats[stats_test_mask]\n",
    "res_data_train = full_results[res_train_mask]\n",
    "stats_data_train = full_stats[stats_train_mask]\n",
    "\n",
    "#reindex all of them\n",
    "res_data_test = res_data_test.reset_index()\n",
    "stats_data_test = stats_data_test.reset_index()\n",
    "res_data_train = res_data_train.reset_index()\n",
    "stats_data_train = stats_data_train.reset_index()\n",
    "\n",
    "for i in range(len(res_data_test)):\n",
    "    if res_data_test['Region Name'][i] == \"First Four\":\n",
    "        res_data_test = res_data_test.drop(i)\n",
    "for i in range(len(res_data_train)):\n",
    "    if res_data_train['Region Name'][i] == \"First Four\":\n",
    "        res_data_train = res_data_train.drop(i)\n",
    "        \n",
    "#reindex all of them\n",
    "res_data_test = res_data_test.reset_index()\n",
    "stats_data_test = stats_data_test.reset_index()\n",
    "res_data_train = res_data_train.reset_index()\n",
    "stats_data_train = stats_data_train.reset_index()\n",
    "\n",
    "res_data_train.head()\n",
    "\n",
    "#res_data_test.tail()\n",
    "#stats_data_test.tail()\n",
    "#res_data_train.tail()\n",
    "#stats_data_train.tail()\n",
    "#data_test"
   ]
  },
  {
   "cell_type": "code",
   "execution_count": null,
   "metadata": {},
   "outputs": [],
   "source": [
    "#these names match the kenpom stats csv\n",
    "stats_vec = [\"AdjTempo\",\n",
    "            \"AdjOE\",\n",
    "            \"AdjDE\",\n",
    "            \"AdjEM\",\n",
    "            \"seed\",\n",
    "            \"ConfTournament\",\n",
    "            \"SOSAdjEM\",\n",
    "            \"NCSOSAdjEM\",\n",
    "            \"O-D_eFG_Pct\",\n",
    "            \"D-O_TO_Pct\",\n",
    "            \"O-D_OR_Pct\",\n",
    "            \"O-D_FT_Rate\",\n",
    "            \"LastTenRecord\"]\n",
    "\n",
    "print(len(stats_vec))"
   ]
  },
  {
   "cell_type": "code",
   "execution_count": null,
   "metadata": {},
   "outputs": [],
   "source": [
    "# Move training data into 2 numpy arrays - data and labels (results)\n",
    "N = len(res_data_train)\n",
    "\n",
    "training_data = np.zeros((N,13))\n",
    "training_labels = np.zeros((N,1))\n",
    "\n",
    "for i in range(len(res_data_train)):\n",
    "    year = res_data_train['Year'][i]\n",
    "    teamA = res_data_train['TeamA'][i]\n",
    "    teamB = res_data_train['TeamB'][i]\n",
    "    score_diff = res_data_train['ScoreA'][i] - res_data_train['ScoreB'][i]\n",
    "    for k in range(len(stats_data_train)):\n",
    "        if ((stats_data_train['Season'][k] == year) and (stats_data_train['TeamName'][k] == teamA)):\n",
    "            indexA = k\n",
    "            break\n",
    "            \n",
    "    for k in range(len(stats_data_train)):\n",
    "        if ((stats_data_train['Season'][k] == year) and (stats_data_train['TeamName'][k] == teamB)):\n",
    "            indexB = k\n",
    "            break\n",
    "    for s in range(len(stats_vec)):\n",
    "        stat = stats_vec[s]\n",
    "        training_data[i][s] = stats_data_train[stat][indexA] - stats_data_train[stat][indexB]\n",
    "    \n",
    "    if (score_diff > 0):\n",
    "        training_labels[i][0] = 1\n",
    "    else:\n",
    "        training_labels[i][0] = 0\n"
   ]
  },
  {
   "cell_type": "code",
   "execution_count": 4,
   "metadata": {},
   "outputs": [
    {
     "ename": "ValueError",
     "evalue": "DataFrame.dtypes for data must be int, float or bool.\n                Did not expect the data types in fields Region Name, TeamA, TeamB",
     "output_type": "error",
     "traceback": [
      "\u001b[1;31m---------------------------------------------------------------------------\u001b[0m",
      "\u001b[1;31mValueError\u001b[0m                                Traceback (most recent call last)",
      "\u001b[1;32m<ipython-input-4-6c00710cc799>\u001b[0m in \u001b[0;36m<module>\u001b[1;34m\u001b[0m\n\u001b[1;32m----> 1\u001b[1;33m \u001b[0mtrain\u001b[0m \u001b[1;33m=\u001b[0m \u001b[0mxgb\u001b[0m\u001b[1;33m.\u001b[0m\u001b[0mDMatrix\u001b[0m\u001b[1;33m(\u001b[0m\u001b[0mdata_train\u001b[0m\u001b[1;33m,\u001b[0m \u001b[0mlabel\u001b[0m\u001b[1;33m=\u001b[0m\u001b[0mlabel\u001b[0m\u001b[1;33m)\u001b[0m\u001b[1;33m\u001b[0m\u001b[1;33m\u001b[0m\u001b[0m\n\u001b[0m\u001b[0;32m      2\u001b[0m \u001b[0mtest\u001b[0m \u001b[1;33m=\u001b[0m \u001b[0mxgb\u001b[0m\u001b[1;33m.\u001b[0m\u001b[0mDMatrix\u001b[0m\u001b[1;33m(\u001b[0m\u001b[0mdata_test\u001b[0m\u001b[1;33m,\u001b[0m \u001b[0mlabel\u001b[0m \u001b[1;33m=\u001b[0m \u001b[0mlabel\u001b[0m\u001b[1;33m)\u001b[0m\u001b[1;33m\u001b[0m\u001b[1;33m\u001b[0m\u001b[0m\n",
      "\u001b[1;32m~\\Anaconda3\\lib\\site-packages\\xgboost\\core.py\u001b[0m in \u001b[0;36m__init__\u001b[1;34m(self, data, label, missing, weight, silent, feature_names, feature_types, nthread)\u001b[0m\n\u001b[0;32m    382\u001b[0m         data, feature_names, feature_types = _maybe_pandas_data(data,\n\u001b[0;32m    383\u001b[0m                                                                 \u001b[0mfeature_names\u001b[0m\u001b[1;33m,\u001b[0m\u001b[1;33m\u001b[0m\u001b[1;33m\u001b[0m\u001b[0m\n\u001b[1;32m--> 384\u001b[1;33m                                                                 feature_types)\n\u001b[0m\u001b[0;32m    385\u001b[0m \u001b[1;33m\u001b[0m\u001b[0m\n\u001b[0;32m    386\u001b[0m         data, feature_names, feature_types = _maybe_dt_data(data,\n",
      "\u001b[1;32m~\\Anaconda3\\lib\\site-packages\\xgboost\\core.py\u001b[0m in \u001b[0;36m_maybe_pandas_data\u001b[1;34m(data, feature_names, feature_types)\u001b[0m\n\u001b[0;32m    239\u001b[0m         msg = \"\"\"DataFrame.dtypes for data must be int, float or bool.\n\u001b[0;32m    240\u001b[0m                 Did not expect the data types in fields \"\"\"\n\u001b[1;32m--> 241\u001b[1;33m         \u001b[1;32mraise\u001b[0m \u001b[0mValueError\u001b[0m\u001b[1;33m(\u001b[0m\u001b[0mmsg\u001b[0m \u001b[1;33m+\u001b[0m \u001b[1;34m', '\u001b[0m\u001b[1;33m.\u001b[0m\u001b[0mjoin\u001b[0m\u001b[1;33m(\u001b[0m\u001b[0mbad_fields\u001b[0m\u001b[1;33m)\u001b[0m\u001b[1;33m)\u001b[0m\u001b[1;33m\u001b[0m\u001b[1;33m\u001b[0m\u001b[0m\n\u001b[0m\u001b[0;32m    242\u001b[0m \u001b[1;33m\u001b[0m\u001b[0m\n\u001b[0;32m    243\u001b[0m     \u001b[1;32mif\u001b[0m \u001b[0mfeature_names\u001b[0m \u001b[1;32mis\u001b[0m \u001b[1;32mNone\u001b[0m\u001b[1;33m:\u001b[0m\u001b[1;33m\u001b[0m\u001b[1;33m\u001b[0m\u001b[0m\n",
      "\u001b[1;31mValueError\u001b[0m: DataFrame.dtypes for data must be int, float or bool.\n                Did not expect the data types in fields Region Name, TeamA, TeamB"
     ]
    }
   ],
   "source": [
    "# Move testing data into 2 numpy arrays - data and labels (results)\n",
    "N = len(res_data_test)\n",
    "\n",
    "testing_data = np.zeros((N,13))\n",
    "testing_labels = np.zeros((N,1))\n",
    "\n",
    "for i in range(len(res_data_test)):\n",
    "#for i in range(5):\n",
    "    year = res_data_test['Year'][i]\n",
    "    teamA = res_data_test['TeamA'][i]\n",
    "    teamB = res_data_test['TeamB'][i]\n",
    "    score_diff = res_data_test['ScoreA'][i] - res_data_test['ScoreB'][i]\n",
    "    for k in range(len(stats_data_test)):\n",
    "        if ((stats_data_test['Season'][k] == year) and (stats_data_test['TeamName'][k] == teamA)):\n",
    "            indexA = k\n",
    "            break\n",
    "            \n",
    "    for k in range(len(stats_data_test)):\n",
    "        if ((stats_data_test['Season'][k] == year) and (stats_data_test['TeamName'][k] == teamB)):\n",
    "            indexB = k\n",
    "            break\n",
    "    for s in range(len(stats_vec)):\n",
    "        stat = stats_vec[s]\n",
    "        testing_data[i][s] = stats_data_test[stat][indexA] - stats_data_test[stat][indexB]\n",
    "    \n",
    "    if (score_diff > 0):\n",
    "        testing_labels[i][0] = 1\n",
    "    else:\n",
    "        testing_labels[i][0] = 0\n"
   ]
  },
  {
   "cell_type": "code",
   "execution_count": null,
   "metadata": {},
   "outputs": [],
   "source": [
    "print(training_data.shape)\n",
    "print(training_labels.shape)\n",
    "print('\\n')\n",
    "print(testing_data.shape)\n",
    "print(testing_labels.shape)"
   ]
  },
  {
   "cell_type": "code",
   "execution_count": null,
   "metadata": {},
   "outputs": [],
   "source": [
    "#Time to normalize the data\n",
    "training_data = preprocessing.normalize(training_data, axis=0, norm='max')\n",
    "testing_data = preprocessing.normalize(testing_data, axis=0, norm='max')\n"
   ]
  },
  {
   "cell_type": "code",
   "execution_count": null,
   "metadata": {},
   "outputs": [],
   "source": [
    "dtrain = xgb.DMatrix(training_data, label=training_labels,\n",
    "                     feature_names=stats_vec)\n",
    "dtest = xgb.DMatrix(testing_data, label=testing_labels,\n",
    "                    feature_names=stats_vec)\n"
   ]
  },
  {
   "cell_type": "code",
   "execution_count": null,
   "metadata": {},
   "outputs": [],
   "source": [
    "param = {}\n",
    "evallist = [(dtest, 'eval'), (dtrain, 'train')]\n",
    "\n",
    "num_round = 500 #looks like it levels off at around 200\n",
    "bst = xgb.train(param, dtrain, num_round, evallist)\n"
   ]
  }
 ],
 "metadata": {
  "kernelspec": {
   "display_name": "Python 3",
   "language": "python",
   "name": "python3"
  },
  "language_info": {
   "codemirror_mode": {
    "name": "ipython",
    "version": 3
   },
   "file_extension": ".py",
   "mimetype": "text/x-python",
   "name": "python",
   "nbconvert_exporter": "python",
   "pygments_lexer": "ipython3",
   "version": "3.7.1"
  }
 },
 "nbformat": 4,
 "nbformat_minor": 2
}
